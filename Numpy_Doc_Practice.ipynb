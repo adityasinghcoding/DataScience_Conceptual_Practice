{
 "cells": [
  {
   "cell_type": "markdown",
   "id": "3f693efe-aa0c-4026-886d-9b262374d497",
   "metadata": {},
   "source": [
    "# Numpy Documentation Practice"
   ]
  },
  {
   "cell_type": "markdown",
   "id": "df894eca-9b56-4946-bacc-4146814bca4f",
   "metadata": {
    "jp-MarkdownHeadingCollapsed": true
   },
   "source": [
    "### Freestyle warmup"
   ]
  },
  {
   "cell_type": "code",
   "execution_count": 1,
   "id": "fa8ecda6-d3ce-4a94-ad29-a7a561f4ecf6",
   "metadata": {},
   "outputs": [],
   "source": [
    "import numpy as np"
   ]
  },
  {
   "cell_type": "code",
   "execution_count": 37,
   "id": "ecbcde24-c958-4c06-a3be-3026489b6f7b",
   "metadata": {},
   "outputs": [],
   "source": [
    "arr = [['a', 'd', 'i', 't', 'y', 'a'],\n",
    "       ['s','i','n','g','h'],\n",
    "       [1,2,3,4,5,6,7,8,9,0],\n",
    "      ['@',3]]"
   ]
  },
  {
   "cell_type": "code",
   "execution_count": 34,
   "id": "bfa6f07c-ca58-47df-b6be-3f382132fc88",
   "metadata": {},
   "outputs": [
    {
     "data": {
      "text/plain": [
       "list"
      ]
     },
     "execution_count": 34,
     "metadata": {},
     "output_type": "execute_result"
    }
   ],
   "source": [
    "type(arr)"
   ]
  },
  {
   "cell_type": "code",
   "execution_count": 43,
   "id": "4556c4bb-2a10-44dd-b5a4-01f08ae33c87",
   "metadata": {},
   "outputs": [
    {
     "data": {
      "text/plain": [
       "'@'"
      ]
     },
     "execution_count": 43,
     "metadata": {},
     "output_type": "execute_result"
    }
   ],
   "source": [
    "arr[3][0]"
   ]
  },
  {
   "cell_type": "code",
   "execution_count": 3,
   "id": "40bd4ab6-4a0f-4339-862e-279f42ff8a3a",
   "metadata": {},
   "outputs": [],
   "source": [
    "dic = {'Name':'Aditya','Surname':'Singh'}"
   ]
  },
  {
   "cell_type": "code",
   "execution_count": 4,
   "id": "e0d52035-44f6-4b93-a4e2-f8693d4d56b9",
   "metadata": {},
   "outputs": [
    {
     "data": {
      "text/plain": [
       "dict"
      ]
     },
     "execution_count": 4,
     "metadata": {},
     "output_type": "execute_result"
    }
   ],
   "source": [
    "type(dic)"
   ]
  },
  {
   "cell_type": "code",
   "execution_count": 5,
   "id": "7df03b59-9e52-45a6-b39c-8962776c1a5a",
   "metadata": {},
   "outputs": [],
   "source": [
    "dic['Surname'] = 'Thakur'"
   ]
  },
  {
   "cell_type": "code",
   "execution_count": 6,
   "id": "e7f03cd5-3c8c-44ce-a5cf-1b2f2e38771e",
   "metadata": {},
   "outputs": [
    {
     "name": "stdout",
     "output_type": "stream",
     "text": [
      "{'Name': 'Aditya', 'Surname': 'Thakur'}\n"
     ]
    }
   ],
   "source": [
    "print(dic)"
   ]
  },
  {
   "cell_type": "code",
   "execution_count": 64,
   "id": "1335c093-faed-4ba2-985a-7dd204271fb8",
   "metadata": {},
   "outputs": [],
   "source": [
    "tup = ('a', 'd', 'i', 't', 'y', 'a', 1,2,3,4,5,6,7,8,9,0)"
   ]
  },
  {
   "cell_type": "code",
   "execution_count": 65,
   "id": "de7965e3-db0c-4667-a200-f6e4603eeb15",
   "metadata": {},
   "outputs": [
    {
     "data": {
      "text/plain": [
       "tuple"
      ]
     },
     "execution_count": 65,
     "metadata": {},
     "output_type": "execute_result"
    }
   ],
   "source": [
    "type(tup)"
   ]
  },
  {
   "cell_type": "code",
   "execution_count": 70,
   "id": "a9ace03b-da3a-4086-8e2d-6518f20db5de",
   "metadata": {},
   "outputs": [
    {
     "data": {
      "text/plain": [
       "1"
      ]
     },
     "execution_count": 70,
     "metadata": {},
     "output_type": "execute_result"
    }
   ],
   "source": [
    "tup[6]"
   ]
  },
  {
   "cell_type": "code",
   "execution_count": null,
   "id": "cc09017a-d88e-4b1a-b67c-b8e675c705d9",
   "metadata": {},
   "outputs": [],
   "source": [
    "sets = "
   ]
  },
  {
   "cell_type": "markdown",
   "id": "1dc25b98-25c8-4c5a-bd4f-037a4e4a83e6",
   "metadata": {},
   "source": [
    "# Numpy Practice"
   ]
  },
  {
   "cell_type": "markdown",
   "id": "efcbec6e-e995-44ac-977b-6105df25acb2",
   "metadata": {},
   "source": [
    "### By Aditya Singh\n"
   ]
  },
  {
   "cell_type": "code",
   "execution_count": 80,
   "id": "65cb5c55-79ca-4f5f-8873-0a4118104d5f",
   "metadata": {},
   "outputs": [],
   "source": [
    "a = np.array([[2,4,6,8],\n",
    "             [10,12,14,16],\n",
    "            [18,19,20,22]])"
   ]
  },
  {
   "cell_type": "code",
   "execution_count": 110,
   "id": "ea7f2ba5-9986-42b1-837a-1a4cf65d633b",
   "metadata": {},
   "outputs": [
    {
     "name": "stdout",
     "output_type": "stream",
     "text": [
      "(3, 4)\n",
      "\n",
      " [[ 2  4  6  8]\n",
      " [10 12 14 16]\n",
      " [18 19 20 22]] \n",
      "\n"
     ]
    },
    {
     "data": {
      "text/plain": [
       "14"
      ]
     },
     "execution_count": 110,
     "metadata": {},
     "output_type": "execute_result"
    }
   ],
   "source": [
    "print(a.shape)\n",
    "print(\"\\n\",a,\"\\n\")\n",
    "a[1][2]"
   ]
  },
  {
   "cell_type": "code",
   "execution_count": 111,
   "id": "59eb73b5-fb81-4cbd-9f01-68211b949c5c",
   "metadata": {},
   "outputs": [
    {
     "name": "stdout",
     "output_type": "stream",
     "text": [
      "[ 6 14]\n"
     ]
    },
    {
     "data": {
      "text/plain": [
       "16"
      ]
     },
     "execution_count": 111,
     "metadata": {},
     "output_type": "execute_result"
    }
   ],
   "source": [
    "print(a[0:2,2])\n",
    "a[1,3]"
   ]
  },
  {
   "cell_type": "code",
   "execution_count": 112,
   "id": "469aad78-3ee1-41ca-bc91-35b74044a8e2",
   "metadata": {},
   "outputs": [
    {
     "data": {
      "text/plain": [
       "array([1, 2, 3, 4, 5, 6, 7, 8, 9, 0])"
      ]
     },
     "execution_count": 112,
     "metadata": {},
     "output_type": "execute_result"
    }
   ],
   "source": [
    "b = np.array([1,2,3,4,5,6,7,8,9,0])\n",
    "b"
   ]
  },
  {
   "cell_type": "code",
   "execution_count": 123,
   "id": "37ae399d-013d-4536-8fac-8f8371a70bea",
   "metadata": {},
   "outputs": [
    {
     "name": "stdout",
     "output_type": "stream",
     "text": [
      "[[ 4  8 12 16]\n",
      " [20 24 28 32]\n",
      " [36 38 40 44]]\n"
     ]
    },
    {
     "data": {
      "text/plain": [
       "2"
      ]
     },
     "execution_count": 123,
     "metadata": {},
     "output_type": "execute_result"
    }
   ],
   "source": [
    "print(a*2)\n",
    "a.ndim"
   ]
  },
  {
   "cell_type": "code",
   "execution_count": 137,
   "id": "d5b275aa-22be-4530-8c0a-c0e80da2f868",
   "metadata": {},
   "outputs": [
    {
     "name": "stdout",
     "output_type": "stream",
     "text": [
      "2\n",
      "12\n",
      "2\n"
     ]
    },
    {
     "data": {
      "text/plain": [
       "dtype('int32')"
      ]
     },
     "execution_count": 137,
     "metadata": {},
     "output_type": "execute_result"
    }
   ],
   "source": [
    "print(len(a.shape))\n",
    "print(a.size)\n",
    "print(a.ndim)\n",
    "a.dtype"
   ]
  },
  {
   "cell_type": "code",
   "execution_count": 134,
   "id": "f731d590-c5e8-477b-9a3f-6cc0eebf2ddd",
   "metadata": {},
   "outputs": [],
   "source": [
    "import math"
   ]
  },
  {
   "cell_type": "code",
   "execution_count": 135,
   "id": "20a90436-fe7d-401b-afad-6b976829887e",
   "metadata": {},
   "outputs": [
    {
     "data": {
      "text/plain": [
       "True"
      ]
     },
     "execution_count": 135,
     "metadata": {},
     "output_type": "execute_result"
    }
   ],
   "source": [
    "a.size == math.prod(a.shape)"
   ]
  },
  {
   "cell_type": "code",
   "execution_count": 179,
   "id": "e9ae3dd2-0a81-45d6-8e1b-fa898946ed3f",
   "metadata": {},
   "outputs": [
    {
     "data": {
      "text/plain": [
       "array([1., 1., 1.])"
      ]
     },
     "execution_count": 179,
     "metadata": {},
     "output_type": "execute_result"
    }
   ],
   "source": [
    "digits_array = np.ones(3)\n",
    "digits_array"
   ]
  },
  {
   "cell_type": "code",
   "execution_count": 180,
   "id": "fe743034-7a5a-4237-9741-824400360814",
   "metadata": {},
   "outputs": [
    {
     "data": {
      "text/plain": [
       "array([ 2., 10.])"
      ]
     },
     "execution_count": 180,
     "metadata": {},
     "output_type": "execute_result"
    }
   ],
   "source": [
    "np.empty(2)"
   ]
  },
  {
   "cell_type": "code",
   "execution_count": 181,
   "id": "a86a844a-b19f-4ba8-a68e-6692bd6f1540",
   "metadata": {},
   "outputs": [
    {
     "name": "stdout",
     "output_type": "stream",
     "text": [
      "[0 1 2 3 4 5 6 7 8 9]\n",
      "[ 2  4  6  8 10 12 14 16 18 20]\n",
      "[ 1.   2.8  4.6  6.4  8.2 10. ]\n"
     ]
    }
   ],
   "source": [
    "print(np.arange(10))\n",
    "print(np.arange(2,21,2))\n",
    "print(np.linspace(1,10,num=6))"
   ]
  },
  {
   "cell_type": "code",
   "execution_count": 190,
   "id": "07f01bfa-5249-42f9-b1d8-2ad42e4ea205",
   "metadata": {},
   "outputs": [
    {
     "data": {
      "text/plain": [
       "array([1, 1, 1, 1, 1, 1], dtype=int64)"
      ]
     },
     "execution_count": 190,
     "metadata": {},
     "output_type": "execute_result"
    }
   ],
   "source": [
    "x = np.ones(6, dtype=np.int64)\n",
    "x"
   ]
  },
  {
   "cell_type": "code",
   "execution_count": 228,
   "id": "12361c53-07a6-417b-bedf-b28d35c5449f",
   "metadata": {},
   "outputs": [
    {
     "data": {
      "text/plain": [
       "[10, 9, 8, 7, 6, 5, 4, 3, 2, 1]"
      ]
     },
     "execution_count": 228,
     "metadata": {},
     "output_type": "execute_result"
    }
   ],
   "source": [
    "array = np.arange(1,11)\n",
    "array = sorted(array, reverse=True)\n",
    "array"
   ]
  },
  {
   "cell_type": "code",
   "execution_count": 233,
   "id": "83dcf9cc-5371-4960-a71f-aee562ac49b1",
   "metadata": {},
   "outputs": [
    {
     "name": "stdout",
     "output_type": "stream",
     "text": [
      "[3, 5, 8, 4, 6, 10, 7, 1, 9, 2]\n"
     ]
    }
   ],
   "source": [
    "import random\n",
    "np.random.shuffle(array) or random.shuffle(array)\n",
    "print(array)"
   ]
  },
  {
   "cell_type": "code",
   "execution_count": 239,
   "id": "864cebc7-670b-4cb0-9f5e-35dc0bed15ca",
   "metadata": {},
   "outputs": [
    {
     "data": {
      "text/plain": [
       "array([ 1,  2,  3,  4,  5,  6,  7,  8,  9, 10])"
      ]
     },
     "execution_count": 239,
     "metadata": {},
     "output_type": "execute_result"
    }
   ],
   "source": [
    "ran_array = np.array([9, 7, 1, 8, 10, 6, 4, 2, 3, 5])\n",
    "np.sort(ran_array)"
   ]
  },
  {
   "cell_type": "code",
   "execution_count": 352,
   "id": "e6711a92-5f85-4c07-b974-b5dfb5d7bcf7",
   "metadata": {},
   "outputs": [
    {
     "data": {
      "text/plain": [
       "array([ 1,  2,  4,  5, 23, 32,  2,  5,  2,  3])"
      ]
     },
     "execution_count": 352,
     "metadata": {},
     "output_type": "execute_result"
    }
   ],
   "source": [
    "a = np.array([1,2,4,5,23])\n",
    "b = np.array([32,2,5,2,3])\n",
    "\n",
    "np.concatenate((a,b))"
   ]
  },
  {
   "cell_type": "code",
   "execution_count": 253,
   "id": "a62832a2-6dd1-4299-bb8e-b00925c85a89",
   "metadata": {},
   "outputs": [
    {
     "data": {
      "text/plain": [
       "array([[ 1,  2,  4,  5, 23, 32,  2,  5,  2,  3],\n",
       "       [ 2,  3,  1,  6,  4,  4,  2, 23,  1,  2]])"
      ]
     },
     "execution_count": 253,
     "metadata": {},
     "output_type": "execute_result"
    }
   ],
   "source": [
    "x = np.array([[1,2,4,5,23],[2,3,1,6,4]])\n",
    "y = np.array([[32,2,5,2,3],[4,2,23,1,2]])\n",
    "\n",
    "np.concatenate((x,y), axis=1)"
   ]
  },
  {
   "cell_type": "code",
   "execution_count": 12,
   "id": "73e67c10-f0b3-4d14-9678-b75f2646cc91",
   "metadata": {},
   "outputs": [
    {
     "name": "stdout",
     "output_type": "stream",
     "text": [
      "3\n",
      "60\n"
     ]
    },
    {
     "data": {
      "text/plain": [
       "(6, 2, 5)"
      ]
     },
     "execution_count": 12,
     "metadata": {},
     "output_type": "execute_result"
    }
   ],
   "source": [
    "arr_nd = np.array([[[1,2,3,4,5],\n",
    "                    [6,7,8,9,0]],\n",
    "                   \n",
    "                   [[11,12,13,14,15],\n",
    "                    [16,17,18,19,20]],\n",
    "                   \n",
    "                   [[21,22,23,24,25],\n",
    "                   [26,27,28,29,30]],\n",
    "                   \n",
    "                   [[11,12,13,14,15],\n",
    "                    [16,17,18,19,20]],\n",
    "\n",
    "                   [[21,22,23,24,25],\n",
    "                   [26,27,28,29,30]],\n",
    "\n",
    "                   [[11,12,13,14,15],\n",
    "                    [16,17,18,19,20]],\n",
    "                  ])\n",
    "\n",
    "print(arr_nd.ndim)\n",
    "print(arr_nd.size)\n",
    "arr_nd.shape"
   ]
  },
  {
   "cell_type": "code",
   "execution_count": 8,
   "id": "2f1e5d54-be3a-464c-bae7-70a73516deb8",
   "metadata": {},
   "outputs": [
    {
     "name": "stdout",
     "output_type": "stream",
     "text": [
      "[1 2 3 4 5 6]\n"
     ]
    },
    {
     "data": {
      "text/plain": [
       "array([[1, 2, 3],\n",
       "       [4, 5, 6]])"
      ]
     },
     "execution_count": 8,
     "metadata": {},
     "output_type": "execute_result"
    }
   ],
   "source": [
    "a = np.array([1,2,3,4,5,6])\n",
    "b = a.reshape(2,3)\n",
    "print(a)\n",
    "b"
   ]
  },
  {
   "cell_type": "code",
   "execution_count": 10,
   "id": "abec6dcb-3fef-4768-b4e5-fa6125bb133d",
   "metadata": {},
   "outputs": [
    {
     "name": "stdout",
     "output_type": "stream",
     "text": [
      "(6,)\n",
      "(6, 1)\n"
     ]
    },
    {
     "data": {
      "text/plain": [
       "array([[1],\n",
       "       [2],\n",
       "       [3],\n",
       "       [4],\n",
       "       [5],\n",
       "       [6]])"
      ]
     },
     "execution_count": 10,
     "metadata": {},
     "output_type": "execute_result"
    }
   ],
   "source": [
    "print(a.shape)\n",
    "a2 = a[:, np.newaxis]\n",
    "# a2 = a[np.newaxis, :]\n",
    "print(a2.shape)\n",
    "a2"
   ]
  },
  {
   "cell_type": "code",
   "execution_count": 18,
   "id": "6444f672-2552-4e32-8b7e-0c58a42ded64",
   "metadata": {},
   "outputs": [
    {
     "name": "stdout",
     "output_type": "stream",
     "text": [
      "[[[ 1  2  3  4  5]\n",
      "  [ 6  7  8  9  0]]\n",
      "\n",
      " [[11 12 13 14 15]\n",
      "  [16 17 18 19 20]]\n",
      "\n",
      " [[21 22 23 24 25]\n",
      "  [26 27 28 29 30]]\n",
      "\n",
      " [[11 12 13 14 15]\n",
      "  [16 17 18 19 20]]\n",
      "\n",
      " [[21 22 23 24 25]\n",
      "  [26 27 28 29 30]]\n",
      "\n",
      " [[11 12 13 14 15]\n",
      "  [16 17 18 19 20]]]\n",
      "============================================================\n",
      "[11 12 13 14 15 16 17 18 19 20 21 22 23 24 25 26 27 28 29 30 11 12 13 14\n",
      " 15 16 17 18 19 20 21 22 23 24 25 26 27 28 29 30 11 12 13 14 15 16 17 18\n",
      " 19 20]\n",
      "============================================================\n",
      "[ 1  2  3  4  5  6  7  8  9  0 11 12 13 14 15 16 17 18 19 20 21 22 23 24\n",
      " 25 26 27 28 29 30 11 12 13 14 15 16 17 18 19 20 21 22 23 24 25 26 27 28\n",
      " 29 30 11 12 13 14 15 16 17 18 19 20]\n",
      "============================================================\n",
      "[ 2  4  6  8  0 12 14 16 18 20 22 24 26 28 30 12 14 16 18 20 22 24 26 28\n",
      " 30 12 14 16 18 20]\n",
      "============================================================\n",
      "[[[False False False False False]\n",
      "  [False False False False False]]\n",
      "\n",
      " [[False False False False False]\n",
      "  [False False False False  True]]\n",
      "\n",
      " [[ True  True  True  True  True]\n",
      "  [ True  True  True  True  True]]\n",
      "\n",
      " [[False False False False False]\n",
      "  [False False False False  True]]\n",
      "\n",
      " [[ True  True  True  True  True]\n",
      "  [ True  True  True  True  True]]\n",
      "\n",
      " [[False False False False False]\n",
      "  [False False False False  True]]]\n"
     ]
    }
   ],
   "source": [
    "print(arr_nd)\n",
    "\n",
    "print(\"=\"*60)\n",
    "print(arr_nd[arr_nd>10])\n",
    "condition = arr_nd[(arr_nd>10) | (arr_nd<20)]\n",
    "\n",
    "print(\"=\"*60)\n",
    "print(condition)\n",
    "\n",
    "print(\"=\"*60)\n",
    "print(arr_nd[arr_nd%2==0])\n",
    "\n",
    "print(\"=\"*60)\n",
    "above10 = (arr_nd > 20) | (arr_nd==20)\n",
    "print(above10)"
   ]
  },
  {
   "cell_type": "code",
   "execution_count": 437,
   "id": "220805a4-5e2b-4416-98c8-5876ef2bf954",
   "metadata": {},
   "outputs": [
    {
     "data": {
      "text/plain": [
       "array([[ 1,  2,  3,  4],\n",
       "       [ 5,  6,  7,  8],\n",
       "       [ 9, 10, 11, 12]])"
      ]
     },
     "execution_count": 437,
     "metadata": {},
     "output_type": "execute_result"
    }
   ],
   "source": [
    "a = np.array([[1, 2, 3, 4], [5, 6, 7, 8], [9, 10, 11, 12]])\n",
    "a"
   ]
  },
  {
   "cell_type": "code",
   "execution_count": 438,
   "id": "9512464d-d139-4624-b892-badcb33c12f2",
   "metadata": {},
   "outputs": [
    {
     "data": {
      "text/plain": [
       "(array([1, 2, 2, 2, 2], dtype=int64), array([3, 0, 1, 2, 3], dtype=int64))"
      ]
     },
     "execution_count": 438,
     "metadata": {},
     "output_type": "execute_result"
    }
   ],
   "source": [
    "np.nonzero(a>7)"
   ]
  },
  {
   "cell_type": "code",
   "execution_count": 439,
   "id": "86ed5870-61ce-42f5-9b20-2dadc97613a1",
   "metadata": {},
   "outputs": [
    {
     "data": {
      "text/plain": [
       "array([[6, 7]])"
      ]
     },
     "execution_count": 439,
     "metadata": {},
     "output_type": "execute_result"
    }
   ],
   "source": [
    "a2 = a[1:2,1:3]\n",
    "a2"
   ]
  },
  {
   "cell_type": "code",
   "execution_count": 22,
   "id": "41b474da-e1ba-4fad-929f-84d3b7cc49e8",
   "metadata": {},
   "outputs": [
    {
     "name": "stdout",
     "output_type": "stream",
     "text": [
      "[[1 2]\n",
      " [2 3]\n",
      " [3 4]\n",
      " [5 1]]\n",
      "============================================================\n",
      "[[1 2 3 4]\n",
      " [2 3 5 1]]\n"
     ]
    }
   ],
   "source": [
    "x = np.array([[1,2],\n",
    "              [2,3]])\n",
    "y = np.array([[3,4],\n",
    "              [5,1]])\n",
    "\n",
    "vstack = np.vstack((x,y))\n",
    "print(vstack)\n",
    "\n",
    "print(\"=\"*60)\n",
    "hstack = np.hstack((x,y))\n",
    "print(hstack)"
   ]
  },
  {
   "cell_type": "code",
   "execution_count": 23,
   "id": "431aff4b-46a0-47a8-83ae-f205fb6d9a0d",
   "metadata": {},
   "outputs": [
    {
     "data": {
      "text/plain": [
       "[array([[1, 2],\n",
       "        [2, 3]]),\n",
       " array([[3, 4],\n",
       "        [5, 1]])]"
      ]
     },
     "execution_count": 23,
     "metadata": {},
     "output_type": "execute_result"
    }
   ],
   "source": [
    "np.hsplit(hstack,2)"
   ]
  },
  {
   "cell_type": "code",
   "execution_count": 24,
   "id": "b5278c4b-8fc4-4c9b-bcb5-862664865dc8",
   "metadata": {},
   "outputs": [
    {
     "data": {
      "text/plain": [
       "array([[ 1,  2,  3,  4,  5,  6,  7,  8,  9, 10, 11, 12],\n",
       "       [13, 14, 15, 16, 17, 18, 19, 20, 21, 22, 23, 24]])"
      ]
     },
     "execution_count": 24,
     "metadata": {},
     "output_type": "execute_result"
    }
   ],
   "source": [
    "nx = np.arange(1,25).reshape(2,12)\n",
    "nx"
   ]
  },
  {
   "cell_type": "code",
   "execution_count": 25,
   "id": "ed76da45-b6d0-48ae-91aa-c2510af4310d",
   "metadata": {},
   "outputs": [
    {
     "data": {
      "text/plain": [
       "[array([[ 1,  2,  3,  4],\n",
       "        [13, 14, 15, 16]]),\n",
       " array([[ 5,  6,  7,  8],\n",
       "        [17, 18, 19, 20]]),\n",
       " array([[ 9, 10, 11, 12],\n",
       "        [21, 22, 23, 24]])]"
      ]
     },
     "execution_count": 25,
     "metadata": {},
     "output_type": "execute_result"
    }
   ],
   "source": [
    "np.hsplit(nx,3)"
   ]
  },
  {
   "cell_type": "code",
   "execution_count": 26,
   "id": "e953176f-ac5a-4b0f-8168-5da1e3dd6bd7",
   "metadata": {},
   "outputs": [
    {
     "data": {
      "text/plain": [
       "array([[  1, 200,   3,   4],\n",
       "       [  2,   3,   5,   1]])"
      ]
     },
     "execution_count": 26,
     "metadata": {},
     "output_type": "execute_result"
    }
   ],
   "source": [
    "temp = hstack[0,:]\n",
    "temp[1] = temp[1]*100\n",
    "hstack"
   ]
  },
  {
   "cell_type": "code",
   "execution_count": 27,
   "id": "73170a8d-c48e-47f7-9a5d-51df73bbd495",
   "metadata": {},
   "outputs": [
    {
     "data": {
      "text/plain": [
       "array([[  1, 200,   3,   4],\n",
       "       [  2,   3,   5,   1]])"
      ]
     },
     "execution_count": 27,
     "metadata": {},
     "output_type": "execute_result"
    }
   ],
   "source": [
    "ar = hstack.copy()\n",
    "ar"
   ]
  },
  {
   "cell_type": "code",
   "execution_count": 28,
   "id": "8f236fba-8d3f-4890-b95c-dea89808b980",
   "metadata": {},
   "outputs": [
    {
     "name": "stdout",
     "output_type": "stream",
     "text": [
      "[[1 1 1 1]\n",
      " [1 1 1 1]]\n"
     ]
    }
   ],
   "source": [
    "ones = np.ones(8, dtype=int)\n",
    "ones = ones.reshape(2,4)\n",
    "print(ones)"
   ]
  },
  {
   "cell_type": "code",
   "execution_count": 29,
   "id": "fcf26dd7-e37f-4d7d-b867-925b70ae9b8f",
   "metadata": {},
   "outputs": [
    {
     "name": "stdout",
     "output_type": "stream",
     "text": [
      "[[  2 201   4   5]\n",
      " [  3   4   6   2]]\n",
      "\n",
      "[[  1 200   3   4]\n",
      " [  2   3   5   1]]\n",
      "\n",
      "[[    4 40401    16    25]\n",
      " [    9    16    36     4]]\n"
     ]
    }
   ],
   "source": [
    "ar_ones = ar + ones\n",
    "print(ar_ones)\n",
    "print()\n",
    "print(ar_ones - ones)\n",
    "print()\n",
    "print(ar_ones * ar_ones)"
   ]
  },
  {
   "cell_type": "code",
   "execution_count": 36,
   "id": "fd7087ba-8aaf-46e1-ae83-6dd94cffc44f",
   "metadata": {},
   "outputs": [
    {
     "name": "stdout",
     "output_type": "stream",
     "text": [
      "[[1 2]\n",
      " [2 3]\n",
      " [3 4]\n",
      " [5 1]]\n",
      "============================================================\n",
      "[[  2 201]\n",
      " [  4   5]\n",
      " [  3   4]\n",
      " [  6   2]]\n"
     ]
    }
   ],
   "source": [
    "ar_ones = ar_ones.reshape(4,2)\n",
    "print(vstack)\n",
    "print(\"=\"*60)\n",
    "print(ar_ones)"
   ]
  },
  {
   "cell_type": "code",
   "execution_count": 31,
   "id": "598a92f9-39e3-40eb-93fb-a26039caa1cc",
   "metadata": {},
   "outputs": [
    {
     "name": "stdout",
     "output_type": "stream",
     "text": [
      "[[  2 402]\n",
      " [  8  15]\n",
      " [  9  16]\n",
      " [ 30   2]]\n"
     ]
    }
   ],
   "source": [
    "mul = vstack * ar_ones\n",
    "print(mul)"
   ]
  },
  {
   "cell_type": "code",
   "execution_count": 32,
   "id": "188de645-cb08-44ca-ad80-98ec6f3c29d8",
   "metadata": {},
   "outputs": [
    {
     "name": "stdout",
     "output_type": "stream",
     "text": [
      "484\n",
      "\n",
      "[ 49 435]\n"
     ]
    }
   ],
   "source": [
    "total = mul.sum()\n",
    "print(total)\n",
    "print()\n",
    "print(mul.sum(axis=0))"
   ]
  },
  {
   "cell_type": "code",
   "execution_count": 35,
   "id": "f6de1675-d503-4229-9f72-71629eb5bce1",
   "metadata": {},
   "outputs": [
    {
     "name": "stdout",
     "output_type": "stream",
     "text": [
      "[[  1.  201. ]\n",
      " [  4.    7.5]\n",
      " [  4.5   8. ]\n",
      " [ 15.    1. ]]\n",
      "============================================================\n",
      "[[  2 402]\n",
      " [  8  15]\n",
      " [  9  16]\n",
      " [ 30   2]]\n"
     ]
    }
   ],
   "source": [
    "print(mul / 2)\n",
    "print(\"=\"*60)\n",
    "print(mul)"
   ]
  },
  {
   "cell_type": "code",
   "execution_count": 34,
   "id": "5ce84d0a-eb8a-44ae-b9f6-37874c903a2e",
   "metadata": {},
   "outputs": [
    {
     "name": "stdout",
     "output_type": "stream",
     "text": [
      "402\n",
      "2\n",
      "484\n",
      "============================================================\n",
      "[ 30 402]\n",
      "[402  15  16  30]\n"
     ]
    }
   ],
   "source": [
    "print(mul.max())\n",
    "print(mul.min())\n",
    "print(mul.sum())\n",
    "\n",
    "print(\"=\"*60)\n",
    "\n",
    "print(mul.max(axis=0))\n",
    "print(mul.max(axis=1))\n"
   ]
  },
  {
   "cell_type": "code",
   "execution_count": 37,
   "id": "44f064cf-4532-4007-9f9b-42e7c6c4005e",
   "metadata": {},
   "outputs": [
    {
     "name": "stdout",
     "output_type": "stream",
     "text": [
      "[[ 2  3]\n",
      " [25  6]\n",
      " [ 3  5]\n",
      " [ 6  7]]\n",
      "============================================================\n",
      "[[25  6]\n",
      " [ 3  5]]\n",
      "============================================================\n",
      "[[25]\n",
      " [ 3]]\n",
      "============================================================\n",
      "[[3]\n",
      " [6]]\n",
      "\n"
     ]
    }
   ],
   "source": [
    "mat = np.array([[2,3],[25,6],[3,5],[6,7]])\n",
    "print(mat)\n",
    "print(\"=\"*60)\n",
    "\n",
    "print(mat[1:3])\n",
    "print(\"=\"*60)\n",
    "\n",
    "print(mat[1:3,:1])\n",
    "print(\"=\"*60)\n",
    "\n",
    "print(mat[0:2,1:])\n",
    "print()"
   ]
  },
  {
   "cell_type": "code",
   "execution_count": 41,
   "id": "df42b9fa-1012-460f-9219-185c42809c4f",
   "metadata": {},
   "outputs": [
    {
     "name": "stdout",
     "output_type": "stream",
     "text": [
      "[0.75950322 0.15490196]\n",
      "============================================================\n",
      "[0.34468563 0.82803041 0.60726843]\n",
      "============================================================\n",
      "[[[0.55042599 0.73073375]\n",
      "  [0.52967851 0.42120456]\n",
      "  [0.15438924 0.98178031]\n",
      "  [0.94602613 0.26653204]\n",
      "  [0.15510913 0.20160757]]\n",
      "\n",
      " [[0.6898786  0.29669514]\n",
      "  [0.54854562 0.35226412]\n",
      "  [0.2838485  0.06673392]\n",
      "  [0.19325892 0.63286415]\n",
      "  [0.84572164 0.28631838]]\n",
      "\n",
      " [[0.46374475 0.84816812]\n",
      "  [0.57876391 0.55887519]\n",
      "  [0.18570421 0.87989428]\n",
      "  [0.9319787  0.95212956]\n",
      "  [0.47165536 0.71674332]]]\n",
      "============================================================\n"
     ]
    },
    {
     "data": {
      "text/plain": [
       "array([[4, 4],\n",
       "       [8, 3],\n",
       "       [3, 0],\n",
       "       [6, 3],\n",
       "       [5, 2],\n",
       "       [5, 6]], dtype=int64)"
      ]
     },
     "execution_count": 41,
     "metadata": {},
     "output_type": "execute_result"
    }
   ],
   "source": [
    "print(np.random.default_rng().random(2))\n",
    "print(\"=\"*60)\n",
    "\n",
    "rng = np.random.default_rng()\n",
    "print(rng.random(3))\n",
    "print(\"=\"*60)\n",
    "\n",
    "print(np.random.random((3,5,2)))\n",
    "print(\"=\"*60)\n",
    "\n",
    "rng.integers(10, size=(6,2))"
   ]
  },
  {
   "cell_type": "code",
   "execution_count": 44,
   "id": "bfdfa723-697a-4580-b6e8-1daa044b02fb",
   "metadata": {},
   "outputs": [
    {
     "data": {
      "text/plain": [
       "array([[33, 35,  3],\n",
       "       [80,  1, 76],\n",
       "       [13, 47, 81]], dtype=int64)"
      ]
     },
     "execution_count": 44,
     "metadata": {},
     "output_type": "execute_result"
    }
   ],
   "source": [
    "rng.integers(100,size=(3,3))"
   ]
  },
  {
   "cell_type": "code",
   "execution_count": 92,
   "id": "85d3cde8-f197-49eb-b409-1198e7f9b97f",
   "metadata": {},
   "outputs": [
    {
     "name": "stdout",
     "output_type": "stream",
     "text": [
      "[[11 11 12 13 14]\n",
      " [15 16 17 12 13]\n",
      " [11 14 18 19 20]]\n",
      "============================================================\n",
      "[[11 12 13 14 15]\n",
      " [16 17 18 19 20]]\n"
     ]
    }
   ],
   "source": [
    "ua = np.array([11, 11, 12, 13, 14, 15, 16, 17, 12, 13, 11, 14, 18, 19, 20])\n",
    "ua = ua.reshape(3,5)\n",
    "print(ua)\n",
    "print(\"=\"*60)\n",
    "\n",
    "uaa = np.unique(ua).reshape(2,5)\n",
    "print(uaa)"
   ]
  },
  {
   "cell_type": "code",
   "execution_count": 98,
   "id": "3f353296-efb9-4622-a851-3433b2a24dbe",
   "metadata": {},
   "outputs": [
    {
     "name": "stdout",
     "output_type": "stream",
     "text": [
      "[ 0  2  3  4  5  6  7 12 13 14]\n",
      "[11 12 13 14 15 16 17 18 19 20]\n",
      "============================================================\n",
      "[3 2 2 2 1 1 1 1 1 1]\n",
      "[11 12 13 14 15 16 17 18 19 20]\n",
      "\n",
      "[[11  3]\n",
      " [12  2]\n",
      " [13  2]\n",
      " [14  2]\n",
      " [15  1]\n",
      " [16  1]\n",
      " [17  1]\n",
      " [18  1]\n",
      " [19  1]\n",
      " [20  1]]\n"
     ]
    }
   ],
   "source": [
    "uaa, indices = np.unique(ua, return_index=True)\n",
    "print(indices)\n",
    "print(uaa)\n",
    "\n",
    "print(\"=\"*60)\n",
    "\n",
    "uaa, occurence = np.unique(ua, return_counts=True)\n",
    "print(occurence)\n",
    "print(uaa)\n",
    "print()\n",
    "uaa = uaa.flatten()\n",
    "occurence = occurence.flatten()\n",
    "final = np.vstack((uaa, occurence))\n",
    "# final = np.concatenate((uaa, occurence))\n",
    "print(final.T)"
   ]
  },
  {
   "cell_type": "code",
   "execution_count": 134,
   "id": "afa807af-eddb-46d8-a779-8089de64c0fe",
   "metadata": {},
   "outputs": [
    {
     "name": "stdout",
     "output_type": "stream",
     "text": [
      "[[2 3 3]\n",
      " [2 5 3]\n",
      " [2 6 4]]\n",
      "============================================================\n",
      "[2 3 4 5 6]\n"
     ]
    }
   ],
   "source": [
    "a2d = np.array([[2,3,3],[2,5,3],[2,6,4]])\n",
    "print(a2d)\n",
    "print(\"=\"*60)\n",
    "print(np.unique(a2d))"
   ]
  },
  {
   "cell_type": "code",
   "execution_count": 194,
   "id": "638b2476-e857-494b-845f-bfcfc7d9b48c",
   "metadata": {},
   "outputs": [
    {
     "name": "stdout",
     "output_type": "stream",
     "text": [
      "[[ 1  2  3  4  5]\n",
      " [11 12 13 14 15]\n",
      " [21 22 23 24 25]\n",
      " [31 32 33 34 35]\n",
      " [41 42 43 44 45]] \n",
      "\n",
      " [[ 6  7  8  9 10]\n",
      " [16 17 18 19 20]\n",
      " [26 27 28 29 30]\n",
      " [36 37 38 39 40]\n",
      " [46 47 48 49 50]]\n",
      "============================================================\n",
      "[[ 1  2  3  4  5]\n",
      " [11 12 13 14 15]\n",
      " [21 22 23 24 25]\n",
      " [31 32 33 34 35]\n",
      " [41 42 43 44 45]]\n",
      "========== vs ==========\n",
      "[[ 1 11 21 31 41]\n",
      " [ 2 12 22 32 42]\n",
      " [ 3 13 23 33 43]\n",
      " [ 4 14 24 34 44]\n",
      " [ 5 15 25 35 45]]\n",
      "============================================================\n",
      "Reversed/Flipped Matrix\n",
      " [[50 49 48 47 46]\n",
      " [40 39 38 37 36]\n",
      " [30 29 28 27 26]\n",
      " [20 19 18 17 16]\n",
      " [10  9  8  7  6]]\n",
      "\n",
      "Reversed along Y axis\n",
      " [[10  9  8  7  6]\n",
      " [20 19 18 17 16]\n",
      " [30 29 28 27 26]\n",
      " [40 39 38 37 36]\n",
      " [50 49 48 47 46]]\n",
      "\n",
      "Reversed the subset of narr2\n",
      " [[39 38 37]\n",
      " [29 28 27]\n",
      " [19 18 17]]\n"
     ]
    }
   ],
   "source": [
    "narr = np.arange(1,51)\n",
    "narr = narr.reshape(5,10)\n",
    "narr1, narr2 = np.hsplit(narr, 2)\n",
    "print(narr1, \"\\n\\n\",narr2)\n",
    "print(\"=\"*60)\n",
    "print(narr1)\n",
    "print(\"=\"*10,\"vs\",\"=\"*10)\n",
    "print(narr1.T)\n",
    "print(\"=\"*60)\n",
    "print(\"Reversed/Flipped Matrix\\n\",np.flip(narr2))\n",
    "print()\n",
    "print(\"Reversed along Y axis\\n\",np.flip(narr2, axis = 1))\n",
    "print()\n",
    "print(\"Reversed the subset of narr2\\n\",np.flip(narr2[1:4,1:4]))"
   ]
  },
  {
   "cell_type": "code",
   "execution_count": 203,
   "id": "9fa85448-29bb-42d5-be3c-c1b46e101743",
   "metadata": {},
   "outputs": [
    {
     "name": "stdout",
     "output_type": "stream",
     "text": [
      "[ 1  2  3  4  5  6  7  8  9 10 11 12]\n"
     ]
    }
   ],
   "source": [
    "x = np.array([[1, 2, 3, 4], [5, 6, 7, 8], [9, 10, 11, 12]])\n",
    "print(x.flatten())"
   ]
  },
  {
   "cell_type": "code",
   "execution_count": 210,
   "id": "d688e3b1-5cad-4e68-a039-2d2a4f42f4ef",
   "metadata": {},
   "outputs": [],
   "source": [
    "np.save('Numpy_Doc_Practice.npy',a)"
   ]
  },
  {
   "cell_type": "code",
   "execution_count": null,
   "id": "7796bb14-7782-4582-8232-908c2bd6dfc3",
   "metadata": {},
   "outputs": [],
   "source": []
  }
 ],
 "metadata": {
  "kernelspec": {
   "display_name": "Python 3 (ipykernel)",
   "language": "python",
   "name": "python3"
  },
  "language_info": {
   "codemirror_mode": {
    "name": "ipython",
    "version": 3
   },
   "file_extension": ".py",
   "mimetype": "text/x-python",
   "name": "python",
   "nbconvert_exporter": "python",
   "pygments_lexer": "ipython3",
   "version": "3.11.5"
  }
 },
 "nbformat": 4,
 "nbformat_minor": 5
}
